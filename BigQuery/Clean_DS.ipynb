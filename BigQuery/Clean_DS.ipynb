{
 "cells": [
  {
   "cell_type": "code",
   "execution_count": null,
   "metadata": {},
   "outputs": [],
   "source": [
    "import pandas as pd\n",
    "import numpy as np\n",
    "\n",
    "#file = open (\"C:\\\\everythingelse\\\\Strath\\\\958\\Code\\\\BigQuery\\\\Files\\\\Final_DS_testing.txt\",\"r\")"
   ]
  },
  {
   "cell_type": "code",
   "execution_count": null,
   "metadata": {},
   "outputs": [],
   "source": [
    "file = open (\"C:\\\\everythingelse\\\\Strath\\\\958\\Code\\\\BigQuery\\\\Files\\\\Final_DS_testing.txt\",\"r\")\n",
    "counter = 0\n",
    "for line in file:\n",
    "    sentence , rest = line.split(\",,,,\")\n",
    "    #print(line.split(\",,,,\") )\n",
    "    #print(sentence)\n",
    "    #print(rest.split(\",\"))\n",
    "    # if \"yes\" not in rest or \"no\" not in rest:\n",
    "    #     print(sentence)\n",
    "    metadata = rest.split(\",\")\n",
    "    metadata = [x.strip() for x in metadata]\n",
    "       \n",
    "    \n",
    "    # if counter == 7:\n",
    "    #     break\n",
    "print (f\"O/p matching sentences {counter}\")\n",
    "file.close()"
   ]
  },
  {
   "cell_type": "code",
   "execution_count": null,
   "metadata": {},
   "outputs": [],
   "source": [
    "file = open (\"C:\\\\everythingelse\\\\Strath\\\\958\\Code\\\\BigQuery\\\\Files\\\\Final_DS_testing.txt\",\"r\")\n",
    "counter = 0\n",
    "for line in file:\n",
    "    sentence , rest = line.split(\",,,,\")\n",
    "    metadata = rest.split(\",\")\n",
    "    metadata = [x.strip() for x in metadata]\n",
    "    #counter += 1\n",
    "    if metadata[0] == \"yes\" and metadata[1].lower() not in sentence.lower():\n",
    "        #print(sentence)\n",
    "        counter += 1\n",
    "\n",
    "    \n",
    "print (f\"O/p matching sentences {counter}\")\n",
    "file.close()"
   ]
  },
  {
   "cell_type": "code",
   "execution_count": null,
   "metadata": {},
   "outputs": [],
   "source": [
    "file = open (\"C:\\\\everythingelse\\\\Strath\\\\958\\Code\\\\BigQuery\\\\Files\\\\Final_DS_testing.txt\",\"r\")\n",
    "sentences = []\n",
    "present = []\n",
    "code_word =[]\n",
    "target_word = []\n",
    "for line in file:\n",
    "    sentence , rest = line.split(\",,,,\")\n",
    "    sentence = sentence.lower()\n",
    "    metadata = rest.split(\",\")\n",
    "    metadata = [x.strip() for x in metadata]\n",
    "    sentences.append (sentence)\n",
    "    present.append(metadata[0].lower())\n",
    "    if metadata[0].lower() == \"yes\":\n",
    "        code_word.append(metadata[1].lower())\n",
    "        target_word.append(metadata[2].lower())\n",
    "    else:\n",
    "        code_word.append(\"NA\")\n",
    "        target_word.append(\"NA\")\n",
    "print(\"Done with loop\")\n",
    "\n",
    "file.close()"
   ]
  },
  {
   "cell_type": "code",
   "execution_count": null,
   "metadata": {},
   "outputs": [],
   "source": [
    "data = {\n",
    "    'Sentences': sentences,\n",
    "    'Present': present,\n",
    "    'Code Word': code_word,\n",
    "    'Target Word': target_word\n",
    "}\n",
    "df = pd.DataFrame(data)\n",
    "print(df.head(10))"
   ]
  },
  {
   "cell_type": "code",
   "execution_count": null,
   "metadata": {},
   "outputs": [],
   "source": [
    "df.to_csv('CombinesDS_1.txt', sep='|')"
   ]
  },
  {
   "cell_type": "code",
   "execution_count": null,
   "metadata": {},
   "outputs": [],
   "source": [
    "test_df =  pd.read_csv('./Files/CombinesDS_1.txt', delimiter='|', index_col=0)\n",
    "test_df.head(10)"
   ]
  },
  {
   "cell_type": "code",
   "execution_count": null,
   "metadata": {},
   "outputs": [],
   "source": [
    "df = pd.DataFrame({\n",
    "    'A': [1, 2, 3, 4, 5],\n",
    "    'B': ['a', 'b', 'c', 'd', 'e']\n",
    "})\n",
    "\n",
    "print(df)"
   ]
  },
  {
   "cell_type": "code",
   "execution_count": null,
   "metadata": {},
   "outputs": [],
   "source": [
    "# Shuffle the row sequence\n",
    "row_sequence = np.random.permutation(test_df.index)\n",
    "\n",
    "# Reindex the dataframe with the shuffled sequence\n",
    "shuffled_df = test_df.reindex(row_sequence)\n",
    "print(shuffled_df.head(10))"
   ]
  },
  {
   "cell_type": "code",
   "execution_count": null,
   "metadata": {},
   "outputs": [],
   "source": [
    "shuffled_df.to_csv('CombinesDS_2.txt', sep='|',index=False)"
   ]
  }
 ],
 "metadata": {
  "kernelspec": {
   "display_name": "Python 3 (ipykernel)",
   "language": "python",
   "name": "python3"
  },
  "language_info": {
   "codemirror_mode": {
    "name": "ipython",
    "version": 3
   },
   "file_extension": ".py",
   "mimetype": "text/x-python",
   "name": "python",
   "nbconvert_exporter": "python",
   "pygments_lexer": "ipython3",
   "version": "3.10.9"
  }
 },
 "nbformat": 4,
 "nbformat_minor": 2
}
