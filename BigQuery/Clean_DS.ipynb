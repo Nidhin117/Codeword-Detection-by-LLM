{
 "cells": [
  {
   "cell_type": "code",
   "execution_count": 1,
   "metadata": {},
   "outputs": [],
   "source": [
    "import pandas as pd\n",
    "import numpy as np\n",
    "\n",
    "#file = open (\"C:\\\\everythingelse\\\\Strath\\\\958\\Code\\\\BigQuery\\\\Files\\\\Final_DS_testing.txt\",\"r\")"
   ]
  },
  {
   "cell_type": "code",
   "execution_count": 10,
   "metadata": {},
   "outputs": [],
   "source": [
    "file = open (\"C:\\\\everythingelse\\\\Strath\\\\958\\Code\\\\BigQuery\\\\Files\\\\Final_DS_testing.txt\",\"r\")\n",
    "counter = 0\n",
    "for line in file:\n",
    "    sentence , rest = line.split(\",,,,\")\n",
    "    metadata = rest.split(\",\")\n",
    "    metadata = [x.strip() for x in metadata]\n",
    "    if \"yes\" not in metadata :\n",
    "        if \"no\" not in metadata:\n",
    "            print(sentence)\n",
    "\n",
    "file.close()"
   ]
  },
  {
   "cell_type": "code",
   "execution_count": null,
   "metadata": {},
   "outputs": [],
   "source": [
    "file = open (\"C:\\\\everythingelse\\\\Strath\\\\958\\Code\\\\BigQuery\\\\Files\\\\Final_DS_testing.txt\",\"r\")\n",
    "counter = 0\n",
    "for line in file:\n",
    "    sentence , rest = line.split(\",,,,\")\n",
    "    metadata = rest.split(\",\")\n",
    "    metadata = [x.strip() for x in metadata]\n",
    "    #counter += 1\n",
    "    if metadata[0] == \"yes\" and metadata[1].lower() not in sentence.lower():\n",
    "        #print(sentence)\n",
    "        counter += 1\n",
    "\n",
    "    \n",
    "print (f\"O/p matching sentences {counter}\")\n",
    "file.close()"
   ]
  },
  {
   "cell_type": "code",
   "execution_count": 11,
   "metadata": {},
   "outputs": [
    {
     "name": "stdout",
     "output_type": "stream",
     "text": [
      "Done with loop\n"
     ]
    }
   ],
   "source": [
    "file = open (\"C:\\\\everythingelse\\\\Strath\\\\958\\Code\\\\BigQuery\\\\Files\\\\Final_DS_testing.txt\",\"r\")\n",
    "sentences = []\n",
    "present = []\n",
    "code_word =[]\n",
    "target_word = []\n",
    "for line in file:\n",
    "    sentence , rest = line.split(\",,,,\")\n",
    "    sentence = sentence.lower()\n",
    "    metadata = rest.split(\",\")\n",
    "    metadata = [x.strip() for x in metadata]\n",
    "    sentences.append (sentence)\n",
    "    present.append(metadata[0].lower())\n",
    "    if metadata[0].lower() == \"yes\":\n",
    "        code_word.append(metadata[1].lower())\n",
    "        target_word.append(metadata[2].lower())\n",
    "    else:\n",
    "        code_word.append(\"NA\")\n",
    "        target_word.append(\"NA\")\n",
    "print(\"Done with loop\")\n",
    "\n",
    "file.close()"
   ]
  },
  {
   "cell_type": "code",
   "execution_count": 12,
   "metadata": {},
   "outputs": [
    {
     "name": "stdout",
     "output_type": "stream",
     "text": [
      "                                           Sentences Present    Code Word  \\\n",
      "0  hate that. baby powder helps. thanks btw junio...     yes  baby powder   \n",
      "1  too many vendor mistakes on the market to orde...     yes  baby powder   \n",
      "2  this stuff is horrible tasting, reminds me of ...     yes  baby powder   \n",
      "3  the consistency was very similar to baby powde...     yes  baby powder   \n",
      "4  the dope was almost white and mostly powder (l...     yes  baby powder   \n",
      "5  an rc supplier used to send it as white soft p...     yes  baby powder   \n",
      "6  lol right? i'll bring that up once the dust se...      no           NA   \n",
      "7  awesome i just got some and stokednto try! onl...      no           NA   \n",
      "8  the only thing that comes close to matching yo...     yes         dust   \n",
      "9          your not hardcore until you smoke dust.       yes         dust   \n",
      "\n",
      "  Target Word  \n",
      "0     cocaine  \n",
      "1     cocaine  \n",
      "2     cocaine  \n",
      "3     cocaine  \n",
      "4     cocaine  \n",
      "5     cocaine  \n",
      "6          NA  \n",
      "7          NA  \n",
      "8     cocaine  \n",
      "9     cocaine  \n"
     ]
    }
   ],
   "source": [
    "data = {\n",
    "    'Sentences': sentences,\n",
    "    'Present': present,\n",
    "    'Code Word': code_word,\n",
    "    'Target Word': target_word\n",
    "}\n",
    "df = pd.DataFrame(data)\n",
    "print(df.head(10))"
   ]
  },
  {
   "cell_type": "code",
   "execution_count": null,
   "metadata": {},
   "outputs": [],
   "source": [
    "df.to_csv('CombinesDS_1.txt', sep='|')"
   ]
  },
  {
   "cell_type": "code",
   "execution_count": null,
   "metadata": {},
   "outputs": [],
   "source": [
    "test_df =  pd.read_csv('./Files/CombinesDS_1.txt', delimiter='|', index_col=0)\n",
    "test_df.head(10)"
   ]
  },
  {
   "cell_type": "code",
   "execution_count": null,
   "metadata": {},
   "outputs": [],
   "source": [
    "df = pd.DataFrame({\n",
    "    'A': [1, 2, 3, 4, 5],\n",
    "    'B': ['a', 'b', 'c', 'd', 'e']\n",
    "})\n",
    "\n",
    "print(df)"
   ]
  },
  {
   "cell_type": "code",
   "execution_count": null,
   "metadata": {},
   "outputs": [],
   "source": [
    "# Shuffle the row sequence\n",
    "row_sequence = np.random.permutation(test_df.index)\n",
    "\n",
    "# Reindex the dataframe with the shuffled sequence\n",
    "shuffled_df = test_df.reindex(row_sequence)\n",
    "print(shuffled_df.head(10))"
   ]
  },
  {
   "cell_type": "code",
   "execution_count": null,
   "metadata": {},
   "outputs": [],
   "source": [
    "shuffled_df.to_csv('CombinesDS_2.txt', sep='|',index=False)"
   ]
  },
  {
   "cell_type": "code",
   "execution_count": 4,
   "metadata": {},
   "outputs": [
    {
     "data": {
      "text/html": [
       "<div>\n",
       "<style scoped>\n",
       "    .dataframe tbody tr th:only-of-type {\n",
       "        vertical-align: middle;\n",
       "    }\n",
       "\n",
       "    .dataframe tbody tr th {\n",
       "        vertical-align: top;\n",
       "    }\n",
       "\n",
       "    .dataframe thead th {\n",
       "        text-align: right;\n",
       "    }\n",
       "</style>\n",
       "<table border=\"1\" class=\"dataframe\">\n",
       "  <thead>\n",
       "    <tr style=\"text-align: right;\">\n",
       "      <th></th>\n",
       "      <th>Sentences</th>\n",
       "      <th>Present</th>\n",
       "      <th>Code Word</th>\n",
       "      <th>Target Word</th>\n",
       "    </tr>\n",
       "  </thead>\n",
       "  <tbody>\n",
       "    <tr>\n",
       "      <th>0</th>\n",
       "      <td>all up my nose already haha, was a very very f...</td>\n",
       "      <td>yes</td>\n",
       "      <td>crystal</td>\n",
       "      <td>methamphetamine</td>\n",
       "    </tr>\n",
       "    <tr>\n",
       "      <th>1</th>\n",
       "      <td>nah he extended his 'christmas' sale because h...</td>\n",
       "      <td>yes</td>\n",
       "      <td>crystal</td>\n",
       "      <td>methamphetamine</td>\n",
       "    </tr>\n",
       "    <tr>\n",
       "      <th>2</th>\n",
       "      <td>boy you really saved us all with one. almost w...</td>\n",
       "      <td>no</td>\n",
       "      <td>NaN</td>\n",
       "      <td>NaN</td>\n",
       "    </tr>\n",
       "    <tr>\n",
       "      <th>3</th>\n",
       "      <td>ask yourself if you would eat another apple</td>\n",
       "      <td>no</td>\n",
       "      <td>NaN</td>\n",
       "      <td>NaN</td>\n",
       "    </tr>\n",
       "    <tr>\n",
       "      <th>4</th>\n",
       "      <td>the consistency was very similar to baby powde...</td>\n",
       "      <td>yes</td>\n",
       "      <td>baby powder</td>\n",
       "      <td>cocaine</td>\n",
       "    </tr>\n",
       "  </tbody>\n",
       "</table>\n",
       "</div>"
      ],
      "text/plain": [
       "                                           Sentences Present    Code Word  \\\n",
       "0  all up my nose already haha, was a very very f...     yes      crystal   \n",
       "1  nah he extended his 'christmas' sale because h...     yes      crystal   \n",
       "2  boy you really saved us all with one. almost w...      no          NaN   \n",
       "3       ask yourself if you would eat another apple       no          NaN   \n",
       "4  the consistency was very similar to baby powde...     yes  baby powder   \n",
       "\n",
       "       Target Word  \n",
       "0  methamphetamine  \n",
       "1  methamphetamine  \n",
       "2              NaN  \n",
       "3              NaN  \n",
       "4          cocaine  "
      ]
     },
     "execution_count": 4,
     "metadata": {},
     "output_type": "execute_result"
    }
   ],
   "source": [
    "df =  pd.read_csv('./Files/CombinesDS_2.txt', delimiter='|')\n",
    "df.head()"
   ]
  },
  {
   "cell_type": "code",
   "execution_count": 5,
   "metadata": {},
   "outputs": [
    {
     "data": {
      "text/plain": [
       "(206, 4)"
      ]
     },
     "execution_count": 5,
     "metadata": {},
     "output_type": "execute_result"
    }
   ],
   "source": [
    "df.shape"
   ]
  },
  {
   "cell_type": "code",
   "execution_count": 6,
   "metadata": {},
   "outputs": [
    {
     "data": {
      "text/plain": [
       "yes    103\n",
       "no     103\n",
       "Name: Present, dtype: int64"
      ]
     },
     "execution_count": 6,
     "metadata": {},
     "output_type": "execute_result"
    }
   ],
   "source": [
    "df['Present'].value_counts()"
   ]
  }
 ],
 "metadata": {
  "kernelspec": {
   "display_name": "Python 3 (ipykernel)",
   "language": "python",
   "name": "python3"
  },
  "language_info": {
   "codemirror_mode": {
    "name": "ipython",
    "version": 3
   },
   "file_extension": ".py",
   "mimetype": "text/x-python",
   "name": "python",
   "nbconvert_exporter": "python",
   "pygments_lexer": "ipython3",
   "version": "3.10.9"
  }
 },
 "nbformat": 4,
 "nbformat_minor": 2
}
