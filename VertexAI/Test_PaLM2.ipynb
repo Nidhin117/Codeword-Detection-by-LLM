{
  "nbformat": 4,
  "nbformat_minor": 0,
  "metadata": {
    "colab": {
      "provenance": []
    },
    "kernelspec": {
      "name": "python3",
      "display_name": "Python 3"
    },
    "language_info": {
      "name": "python"
    }
  },
  "cells": [
    {
      "cell_type": "code",
      "execution_count": 1,
      "metadata": {
        "colab": {
          "base_uri": "https://localhost:8080/"
        },
        "id": "5UYG5OEVmJc2",
        "outputId": "e8dd9768-dfa0-4ede-e0c4-ee8c65724143"
      },
      "outputs": [
        {
          "output_type": "stream",
          "name": "stdout",
          "text": [
            "Collecting shapely<2.0.0\n",
            "  Downloading Shapely-1.8.5.post1-cp310-cp310-manylinux_2_12_x86_64.manylinux2010_x86_64.whl (2.0 MB)\n",
            "\u001b[2K     \u001b[90m━━━━━━━━━━━━━━━━━━━━━━━━━━━━━━━━━━━━━━━━\u001b[0m \u001b[32m2.0/2.0 MB\u001b[0m \u001b[31m8.2 MB/s\u001b[0m eta \u001b[36m0:00:00\u001b[0m\n",
            "\u001b[?25hInstalling collected packages: shapely\n",
            "  Attempting uninstall: shapely\n",
            "    Found existing installation: shapely 2.0.1\n",
            "    Uninstalling shapely-2.0.1:\n",
            "      Successfully uninstalled shapely-2.0.1\n",
            "Successfully installed shapely-1.8.5.post1\n"
          ]
        }
      ],
      "source": [
        "!pip install \"shapely<2.0.0\"\n",
        "!pip install google-cloud-aiplatform>=1.27.0"
      ]
    },
    {
      "cell_type": "code",
      "source": [
        "from google.colab import auth as google_auth\n",
        "google_auth.authenticate_user()\n",
        "\n",
        "import vertexai\n",
        "from vertexai.language_models import TextGenerationModel\n",
        "\n",
        "vertexai.init(project=\"researchproposal\", location=\"us-central1\")\n",
        "parameters = {\n",
        "    \"temperature\": 0.2,\n",
        "    \"max_output_tokens\": 256,\n",
        "    \"top_p\": 0.8,\n",
        "    \"top_k\": 1\n",
        "}\n",
        "model = TextGenerationModel.from_pretrained(\"text-bison@001\")\n",
        "response = model.predict(\n",
        "    \"\"\"You are an investigator looking for code words for drugs hidden in sentences. You have to analyze the sentences and determine whether they contain a code word for drugs. If the sentence contains a code word for drugs, answer as Present: yes and identify the code word in the sentence. If the sentence does not contain any code word for drugs then answer as Present: no.\n",
        "\n",
        "Q: Lol, that shit is probably so stepped on you can\\'t even call it coke anymore.\n",
        "A: Contains Code word: Yes, Code word : coke, Code word meaning : Cocaine\n",
        "\n",
        "Q: Sentence: No one would resist a pot of soup\n",
        "A: Contains Code word:No,\n",
        "\n",
        "Q: My cousin did the same and when the legalized pot in dc they really started cracking down in virginia and maryland.\n",
        "A: Contains Code word: Yes, Code word : pot , Code word meaning : Marijuana\n",
        "\n",
        "Q: i understand this is to get more customers but imo its bullshit\n",
        "A: Contains Code word:No,\n",
        "\n",
        "Q: i know whit doc got caught with 50 coke but is there tests of other vendors product\n",
        "A:\n",
        "\"\"\",\n",
        "    **parameters\n",
        ")\n",
        "print(f\"Response from Model: {response.text}\")"
      ],
      "metadata": {
        "colab": {
          "base_uri": "https://localhost:8080/"
        },
        "id": "mlkhX34tmk7R",
        "outputId": "cfd408df-a338-4cb1-ad3f-02000d195e25"
      },
      "execution_count": 1,
      "outputs": [
        {
          "output_type": "stream",
          "name": "stdout",
          "text": [
            "Response from Model: Contains Code word: Yes, Code word : coke , Code word meaning : Cocaine \n"
          ]
        }
      ]
    },
    {
      "cell_type": "code",
      "source": [
        "import pandas as pd\n",
        "import re\n",
        "from google.colab import auth as google_auth\n",
        "google_auth.authenticate_user()\n",
        "\n",
        "import vertexai\n",
        "from vertexai.language_models import TextGenerationModel\n",
        "import time"
      ],
      "metadata": {
        "id": "weR3QFeXnV4O"
      },
      "execution_count": 46,
      "outputs": []
    },
    {
      "cell_type": "code",
      "source": [
        "df =  pd.read_csv('CombinesDS_2.txt', delimiter='|')\n",
        "dataset_size = 0.5\n",
        "log_fname = \"PaLM_test_log1.txt\"\n",
        "result_file = \"PaLM_test_result1.txt\"\n",
        "\n",
        "vertexai.init(project=\"researchproposal\", location=\"us-central1\")\n",
        "parameters = {\n",
        "    \"temperature\": 0.2,\n",
        "    \"max_output_tokens\": 256,\n",
        "    \"top_p\": 0.8,\n",
        "    \"top_k\": 1\n",
        "}\n",
        "model = TextGenerationModel.from_pretrained(\"text-bison@001\")"
      ],
      "metadata": {
        "id": "C_pGLW36ncdK"
      },
      "execution_count": 47,
      "outputs": []
    },
    {
      "cell_type": "code",
      "source": [
        "fewshot_msg=\"\"\"You are an investigator looking for code words for drugs hidden in sentences. You have to analyze the sentences and determine whether they contain a code word for drugs. If the sentence contains a code word for drugs, answer as Present: yes and identify the code word in the sentence. If the sentence does not contain any code word for drugs then answer as Present: no.\n",
        "\n",
        "Q: Lol, that shit is probably so stepped on you can\\'t even call it coke anymore.\n",
        "A: Present: Yes, Code word : coke, Code word meaning : Cocaine\n",
        "\n",
        "Q: No one would resist a pot of soup\n",
        "A: Present:No\n",
        "\n",
        "Q: My cousin did the same and when the legalized pot in dc they really started cracking down in virginia and maryland.\n",
        "A: Present: Yes, Code word : pot , Code word meaning : Marijuana\n",
        "\n",
        "Q: i understand this is to get more customers but imo its bullshit\n",
        "A: Present:No\n",
        "\"\"\""
      ],
      "metadata": {
        "id": "-4BZS2_NoxuC"
      },
      "execution_count": 48,
      "outputs": []
    },
    {
      "cell_type": "code",
      "source": [
        "def format_msg(msg):\n",
        "    msg = msg.rstrip().replace(\"'\",\"\")\n",
        "    if msg[-1] != \".\":\n",
        "        msg += \".\"\n",
        "    return msg\n",
        "\n",
        "def call_palm(fewshot_msg):\n",
        "    global model\n",
        "    err_flag = False\n",
        "    try:\n",
        "        response = model.predict(fewshot_msg, **parameters)\n",
        "        return response.text,err_flag\n",
        "    except Exception as e :\n",
        "        err_flag = True\n",
        "        err_msg = f\"API error {e}\"\n",
        "    if err_flag:\n",
        "        return err_msg,err_flag\n",
        "\n",
        "def logger(fname,msg):\n",
        "    file= open(fname,'a',encoding='utf-8')\n",
        "    file.write(f'{msg} \\n')\n",
        "    file.close()\n",
        "\n",
        "def init_write(fname, text):\n",
        "    file= open(fname,'w',encoding='utf-8')\n",
        "    file.write(text + '\\n')\n",
        "    file.close()\n",
        "\n",
        "def log(msg):\n",
        "    global log_fname\n",
        "    logger(log_fname, msg)\n",
        "\n",
        "\n",
        "init_write(log_fname,\"Logging starts\")\n",
        "init_write(result_file,\" \")\n"
      ],
      "metadata": {
        "id": "4BGhJ5nNqMJt"
      },
      "execution_count": 50,
      "outputs": []
    },
    {
      "cell_type": "code",
      "source": [
        "task_msg= \"Q: i know whit doc got caught with 50 coke but is there tests of other vendors product \\nA: \\n\"\n",
        "fewshot_msg = fewshot_msg + task_msg\n",
        "fewshot_msg"
      ],
      "metadata": {
        "id": "y43r95F-pDbt"
      },
      "execution_count": null,
      "outputs": []
    },
    {
      "cell_type": "code",
      "source": [
        "counter = 0\n",
        "prompt_msg = \"\"\n",
        "exception_counter = 0\n",
        "pattern_yes =  r'Present\\s*:\\s*yes*\\s*\\,\\s*Code word\\s*:\\s*\\w*\\s*\\w*\\s*\\,\\s*Code word meaning\\s*:\\s*\\w*\\s*\\w*\\s*'\n",
        "pattern_no = r'Present\\s*:\\s*no\\s*'\n",
        "for index,row in df.iterrows():\n",
        "    if index == (int(len(df)*dataset_size)): # stop at 50% of dataset\n",
        "    #if index == 4:  # stop at 50% of dataset\n",
        "        break\n",
        "    log (f\" Sentence: {row['Sentences']}\")\n",
        "    counter += 1\n",
        "    prompt_msg =  f\"Q:{ format_msg(row['Sentences'])}\\nA:\\n\"\n",
        "    task_prompt = fewshot_msg + prompt_msg\n",
        "    #log(task_prompt)\n",
        "    result,err_flg = call_palm(task_prompt)\n",
        "    log (result)\n",
        "    if not err_flg:\n",
        "        try:\n",
        "            match_yes = re.fullmatch(pattern_yes,result,re.IGNORECASE)\n",
        "            match_no = re.fullmatch(pattern_no,result,re.IGNORECASE)\n",
        "            if match_yes or match_no:\n",
        "                val = result.split(\",\")\n",
        "                present = val[0].split(\":\")[1]\n",
        "                if present.lower().strip() == \"yes\":\n",
        "                    code_word = val[1].split(\":\")[1]\n",
        "                    cw_meaning = val[2].split(\":\")[1]\n",
        "                    logger(result_file,f\"{row['Sentences']} | {present} | {code_word} | {cw_meaning}\")\n",
        "                else:\n",
        "                    logger(result_file,f\"{row['Sentences']} | {present} | NA | NA\")\n",
        "            else:\n",
        "                log(\"Response pattern is not as expected\")\n",
        "                logger(result_file,f\"{row['Sentences']} | Pattern not matching | NA | NA\")\n",
        "        except Exception as e:\n",
        "            log(f\"In exception due to {e}\")\n",
        "            exception_counter += 1\n",
        "            logger(result_file,f\"{row['Sentences']} | In exception {e} | NA | NA\")\n",
        "    else:\n",
        "        exception_counter += 1\n",
        "        log(f\"In API exception{result}\")\n",
        "        logger(result_file,f\"{row['Sentences']} | In API exception {result} | NA | NA\")\n",
        "    if exception_counter == 10:\n",
        "        log(\"Encountered too many exceptions, going to exit\")\n",
        "        break\n",
        "    time.sleep(5)\n",
        "\n",
        "print(\"Done with execution\")"
      ],
      "metadata": {
        "colab": {
          "base_uri": "https://localhost:8080/"
        },
        "id": "keaVi9HMq_ht",
        "outputId": "b5244af4-5491-4411-81ef-437bdcac3e91"
      },
      "execution_count": 51,
      "outputs": [
        {
          "output_type": "stream",
          "name": "stdout",
          "text": [
            "Done with execution\n"
          ]
        }
      ]
    }
  ]
}