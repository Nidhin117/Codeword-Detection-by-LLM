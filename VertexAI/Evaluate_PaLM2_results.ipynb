{
 "cells": [
  {
   "cell_type": "code",
   "execution_count": 1,
   "metadata": {},
   "outputs": [],
   "source": [
    "import pandas as pd\n",
    "import numpy as np"
   ]
  },
  {
   "cell_type": "code",
   "execution_count": 2,
   "metadata": {},
   "outputs": [],
   "source": [
    "df_pred = pd.read_csv('PaLM_test_result1.txt', delimiter='|',header=None, names=['Sentences', 'Present', 'Code Word','Target Word'])\n",
    "df_actual = pd.read_csv('.././BigQuery/Files/CombinesDS_2.txt', delimiter='|')"
   ]
  },
  {
   "cell_type": "code",
   "execution_count": 3,
   "metadata": {},
   "outputs": [
    {
     "data": {
      "text/html": [
       "<div>\n",
       "<style scoped>\n",
       "    .dataframe tbody tr th:only-of-type {\n",
       "        vertical-align: middle;\n",
       "    }\n",
       "\n",
       "    .dataframe tbody tr th {\n",
       "        vertical-align: top;\n",
       "    }\n",
       "\n",
       "    .dataframe thead th {\n",
       "        text-align: right;\n",
       "    }\n",
       "</style>\n",
       "<table border=\"1\" class=\"dataframe\">\n",
       "  <thead>\n",
       "    <tr style=\"text-align: right;\">\n",
       "      <th></th>\n",
       "      <th>Sentences</th>\n",
       "      <th>Present</th>\n",
       "      <th>Code Word</th>\n",
       "      <th>Target Word</th>\n",
       "    </tr>\n",
       "  </thead>\n",
       "  <tbody>\n",
       "    <tr>\n",
       "      <th>0</th>\n",
       "      <td>all up my nose already haha, was a very very f...</td>\n",
       "      <td>yes</td>\n",
       "      <td>crystal</td>\n",
       "      <td>Methamphetamine</td>\n",
       "    </tr>\n",
       "    <tr>\n",
       "      <th>1</th>\n",
       "      <td>nah he extended his 'christmas' sale because h...</td>\n",
       "      <td>yes</td>\n",
       "      <td>crystal</td>\n",
       "      <td>Methamphetamine</td>\n",
       "    </tr>\n",
       "    <tr>\n",
       "      <th>2</th>\n",
       "      <td>boy you really saved us all with one. almost w...</td>\n",
       "      <td>no</td>\n",
       "      <td>NA</td>\n",
       "      <td>NA</td>\n",
       "    </tr>\n",
       "    <tr>\n",
       "      <th>3</th>\n",
       "      <td>ask yourself if you would eat another apple</td>\n",
       "      <td>no</td>\n",
       "      <td>NA</td>\n",
       "      <td>NA</td>\n",
       "    </tr>\n",
       "    <tr>\n",
       "      <th>4</th>\n",
       "      <td>the consistency was very similar to baby powde...</td>\n",
       "      <td>yes</td>\n",
       "      <td>#4</td>\n",
       "      <td>Heroin</td>\n",
       "    </tr>\n",
       "  </tbody>\n",
       "</table>\n",
       "</div>"
      ],
      "text/plain": [
       "                                           Sentences Present    Code Word  \\\n",
       "0  all up my nose already haha, was a very very f...    yes     crystal     \n",
       "1  nah he extended his 'christmas' sale because h...    yes     crystal     \n",
       "2  boy you really saved us all with one. almost w...     no           NA    \n",
       "3      ask yourself if you would eat another apple       no           NA    \n",
       "4  the consistency was very similar to baby powde...    yes           #4    \n",
       "\n",
       "          Target Word  \n",
       "0    Methamphetamine   \n",
       "1    Methamphetamine   \n",
       "2                 NA   \n",
       "3                 NA   \n",
       "4             Heroin   "
      ]
     },
     "execution_count": 3,
     "metadata": {},
     "output_type": "execute_result"
    }
   ],
   "source": [
    "df_pred['Present'] = df_pred['Present'].str.lower()\n",
    "df_pred.head(5)"
   ]
  },
  {
   "cell_type": "code",
   "execution_count": 4,
   "metadata": {},
   "outputs": [
    {
     "data": {
      "text/html": [
       "<div>\n",
       "<style scoped>\n",
       "    .dataframe tbody tr th:only-of-type {\n",
       "        vertical-align: middle;\n",
       "    }\n",
       "\n",
       "    .dataframe tbody tr th {\n",
       "        vertical-align: top;\n",
       "    }\n",
       "\n",
       "    .dataframe thead th {\n",
       "        text-align: right;\n",
       "    }\n",
       "</style>\n",
       "<table border=\"1\" class=\"dataframe\">\n",
       "  <thead>\n",
       "    <tr style=\"text-align: right;\">\n",
       "      <th></th>\n",
       "      <th>Sentences</th>\n",
       "      <th>Present</th>\n",
       "      <th>Code Word</th>\n",
       "      <th>Target Word</th>\n",
       "    </tr>\n",
       "  </thead>\n",
       "  <tbody>\n",
       "    <tr>\n",
       "      <th>0</th>\n",
       "      <td>all up my nose already haha, was a very very f...</td>\n",
       "      <td>yes</td>\n",
       "      <td>crystal</td>\n",
       "      <td>methamphetamine</td>\n",
       "    </tr>\n",
       "    <tr>\n",
       "      <th>1</th>\n",
       "      <td>nah he extended his 'christmas' sale because h...</td>\n",
       "      <td>yes</td>\n",
       "      <td>crystal</td>\n",
       "      <td>methamphetamine</td>\n",
       "    </tr>\n",
       "    <tr>\n",
       "      <th>2</th>\n",
       "      <td>boy you really saved us all with one. almost w...</td>\n",
       "      <td>no</td>\n",
       "      <td>NaN</td>\n",
       "      <td>NaN</td>\n",
       "    </tr>\n",
       "    <tr>\n",
       "      <th>3</th>\n",
       "      <td>ask yourself if you would eat another apple</td>\n",
       "      <td>no</td>\n",
       "      <td>NaN</td>\n",
       "      <td>NaN</td>\n",
       "    </tr>\n",
       "    <tr>\n",
       "      <th>4</th>\n",
       "      <td>the consistency was very similar to baby powde...</td>\n",
       "      <td>yes</td>\n",
       "      <td>baby powder</td>\n",
       "      <td>cocaine</td>\n",
       "    </tr>\n",
       "  </tbody>\n",
       "</table>\n",
       "</div>"
      ],
      "text/plain": [
       "                                           Sentences Present    Code Word  \\\n",
       "0  all up my nose already haha, was a very very f...     yes      crystal   \n",
       "1  nah he extended his 'christmas' sale because h...     yes      crystal   \n",
       "2  boy you really saved us all with one. almost w...      no          NaN   \n",
       "3       ask yourself if you would eat another apple       no          NaN   \n",
       "4  the consistency was very similar to baby powde...     yes  baby powder   \n",
       "\n",
       "       Target Word  \n",
       "0  methamphetamine  \n",
       "1  methamphetamine  \n",
       "2              NaN  \n",
       "3              NaN  \n",
       "4          cocaine  "
      ]
     },
     "execution_count": 4,
     "metadata": {},
     "output_type": "execute_result"
    }
   ],
   "source": [
    "df_actual.head()"
   ]
  },
  {
   "cell_type": "code",
   "execution_count": 5,
   "metadata": {},
   "outputs": [
    {
     "data": {
      "text/plain": [
       "(103, 4)"
      ]
     },
     "execution_count": 5,
     "metadata": {},
     "output_type": "execute_result"
    }
   ],
   "source": [
    "df_actual = df_actual.iloc[:103]\n",
    "df_actual.shape"
   ]
  },
  {
   "cell_type": "code",
   "execution_count": 6,
   "metadata": {},
   "outputs": [],
   "source": [
    "actual_val = df_actual['Present'].astype(str).replace({'yes': 1, 'no': 0})\n",
    "predicted_val = df_pred['Present'].str.strip().astype(str).replace({'yes': 1, 'no': 0})"
   ]
  },
  {
   "cell_type": "code",
   "execution_count": 7,
   "metadata": {},
   "outputs": [
    {
     "name": "stdout",
     "output_type": "stream",
     "text": [
      "Confusion Matrix:\n",
      " [[54  4]\n",
      " [ 8 37]]\n",
      "Classification Report:\n",
      "               precision    recall  f1-score   support\n",
      "\n",
      "           0       0.87      0.93      0.90        58\n",
      "           1       0.90      0.82      0.86        45\n",
      "\n",
      "    accuracy                           0.88       103\n",
      "   macro avg       0.89      0.88      0.88       103\n",
      "weighted avg       0.88      0.88      0.88       103\n",
      "\n",
      "Accuracy is 0.883495145631068\n"
     ]
    }
   ],
   "source": [
    "from sklearn.metrics import classification_report, confusion_matrix, accuracy_score\n",
    "\n",
    "cm= confusion_matrix(actual_val, predicted_val)\n",
    "print(\"Confusion Matrix:\\n\", cm)\n",
    "\n",
    "report = classification_report(actual_val, predicted_val)\n",
    "print(\"Classification Report:\\n\", report)\n",
    "\n",
    "print(f\"Accuracy is {accuracy_score(actual_val, predicted_val)}\")"
   ]
  },
  {
   "cell_type": "code",
   "execution_count": 8,
   "metadata": {},
   "outputs": [
    {
     "data": {
      "image/png": "[encoded data removed]",
      "text/plain": [
       "<Figure size 800x400 with 2 Axes>"
      ]
     },
     "metadata": {},
     "output_type": "display_data"
    }
   ],
   "source": [
    "import seaborn as sns\n",
    "import matplotlib.pyplot as plt \n",
    "\n",
    "fig1=plt.figure(figsize=(8,4))\n",
    "ax1=fig1.add_axes([0.1,0.1,0.9,0.9])\n",
    "sns.heatmap(cm,annot=True, fmt='g')\n",
    "\n",
    "plt.show()"
   ]
  },
  {
   "cell_type": "code",
   "execution_count": 10,
   "metadata": {},
   "outputs": [
    {
     "data": {
      "text/html": [
       "<div>\n",
       "<style scoped>\n",
       "    .dataframe tbody tr th:only-of-type {\n",
       "        vertical-align: middle;\n",
       "    }\n",
       "\n",
       "    .dataframe tbody tr th {\n",
       "        vertical-align: top;\n",
       "    }\n",
       "\n",
       "    .dataframe thead th {\n",
       "        text-align: right;\n",
       "    }\n",
       "</style>\n",
       "<table border=\"1\" class=\"dataframe\">\n",
       "  <thead>\n",
       "    <tr style=\"text-align: right;\">\n",
       "      <th></th>\n",
       "      <th>Sentences</th>\n",
       "      <th>Pred_Present</th>\n",
       "      <th>Pred_Code_Word</th>\n",
       "      <th>Pred_target_word</th>\n",
       "    </tr>\n",
       "  </thead>\n",
       "  <tbody>\n",
       "    <tr>\n",
       "      <th>0</th>\n",
       "      <td>all up my nose already haha, was a very very f...</td>\n",
       "      <td>yes</td>\n",
       "      <td>crystal</td>\n",
       "      <td>Methamphetamine</td>\n",
       "    </tr>\n",
       "    <tr>\n",
       "      <th>1</th>\n",
       "      <td>nah he extended his 'christmas' sale because h...</td>\n",
       "      <td>yes</td>\n",
       "      <td>crystal</td>\n",
       "      <td>Methamphetamine</td>\n",
       "    </tr>\n",
       "    <tr>\n",
       "      <th>2</th>\n",
       "      <td>boy you really saved us all with one. almost w...</td>\n",
       "      <td>no</td>\n",
       "      <td>NA</td>\n",
       "      <td>NA</td>\n",
       "    </tr>\n",
       "    <tr>\n",
       "      <th>3</th>\n",
       "      <td>ask yourself if you would eat another apple</td>\n",
       "      <td>no</td>\n",
       "      <td>NA</td>\n",
       "      <td>NA</td>\n",
       "    </tr>\n",
       "    <tr>\n",
       "      <th>4</th>\n",
       "      <td>the consistency was very similar to baby powde...</td>\n",
       "      <td>yes</td>\n",
       "      <td>#4</td>\n",
       "      <td>Heroin</td>\n",
       "    </tr>\n",
       "  </tbody>\n",
       "</table>\n",
       "</div>"
      ],
      "text/plain": [
       "                                           Sentences Pred_Present  \\\n",
       "0  all up my nose already haha, was a very very f...         yes    \n",
       "1  nah he extended his 'christmas' sale because h...         yes    \n",
       "2  boy you really saved us all with one. almost w...          no    \n",
       "3      ask yourself if you would eat another apple            no    \n",
       "4  the consistency was very similar to baby powde...         yes    \n",
       "\n",
       "  Pred_Code_Word    Pred_target_word  \n",
       "0      crystal      Methamphetamine   \n",
       "1      crystal      Methamphetamine   \n",
       "2            NA                  NA   \n",
       "3            NA                  NA   \n",
       "4            #4              Heroin   "
      ]
     },
     "execution_count": 10,
     "metadata": {},
     "output_type": "execute_result"
    }
   ],
   "source": [
    "df_pred2 = df_pred\n",
    "df_pred2 = df_pred2.rename(columns={'Present': 'Pred_Present', 'Code Word': 'Pred_Code_Word','Target Word':'Pred_target_word'})\n",
    "df_pred2.head()"
   ]
  },
  {
   "cell_type": "code",
   "execution_count": 11,
   "metadata": {},
   "outputs": [],
   "source": [
    "df_pred2['Sentences'] = df_pred2['Sentences'].str.strip()\n",
    "df_actual['Sentences'] = df_actual['Sentences'].str.strip()"
   ]
  },
  {
   "cell_type": "code",
   "execution_count": 12,
   "metadata": {},
   "outputs": [
    {
     "name": "stdout",
     "output_type": "stream",
     "text": [
      "Column A in both DataFrames is matching\n"
     ]
    }
   ],
   "source": [
    "matching = df_pred2['Sentences'].equals(df_actual['Sentences'])\n",
    "if matching:\n",
    "    print(\"Column A in both DataFrames is matching\")\n",
    "else:\n",
    "    print(\"Column A in both DataFrames is NOT matching\")"
   ]
  },
  {
   "cell_type": "code",
   "execution_count": 13,
   "metadata": {},
   "outputs": [],
   "source": [
    "combined = pd.merge(df_actual, df_pred2, on='Sentences')"
   ]
  },
  {
   "cell_type": "code",
   "execution_count": 14,
   "metadata": {},
   "outputs": [
    {
     "data": {
      "text/html": [
       "<div>\n",
       "<style scoped>\n",
       "    .dataframe tbody tr th:only-of-type {\n",
       "        vertical-align: middle;\n",
       "    }\n",
       "\n",
       "    .dataframe tbody tr th {\n",
       "        vertical-align: top;\n",
       "    }\n",
       "\n",
       "    .dataframe thead th {\n",
       "        text-align: right;\n",
       "    }\n",
       "</style>\n",
       "<table border=\"1\" class=\"dataframe\">\n",
       "  <thead>\n",
       "    <tr style=\"text-align: right;\">\n",
       "      <th></th>\n",
       "      <th>Sentences</th>\n",
       "      <th>Present</th>\n",
       "      <th>Code Word</th>\n",
       "      <th>Target Word</th>\n",
       "      <th>Pred_Present</th>\n",
       "      <th>Pred_Code_Word</th>\n",
       "      <th>Pred_target_word</th>\n",
       "    </tr>\n",
       "  </thead>\n",
       "  <tbody>\n",
       "  </tbody>\n",
       "</table>\n",
       "</div>"
      ],
      "text/plain": [
       "Empty DataFrame\n",
       "Columns: [Sentences, Present, Code Word, Target Word, Pred_Present, Pred_Code_Word, Pred_target_word]\n",
       "Index: []"
      ]
     },
     "execution_count": 14,
     "metadata": {},
     "output_type": "execute_result"
    }
   ],
   "source": [
    "combined[combined.duplicated()]"
   ]
  },
  {
   "cell_type": "code",
   "execution_count": 15,
   "metadata": {},
   "outputs": [
    {
     "data": {
      "text/html": [
       "<div>\n",
       "<style scoped>\n",
       "    .dataframe tbody tr th:only-of-type {\n",
       "        vertical-align: middle;\n",
       "    }\n",
       "\n",
       "    .dataframe tbody tr th {\n",
       "        vertical-align: top;\n",
       "    }\n",
       "\n",
       "    .dataframe thead th {\n",
       "        text-align: right;\n",
       "    }\n",
       "</style>\n",
       "<table border=\"1\" class=\"dataframe\">\n",
       "  <thead>\n",
       "    <tr style=\"text-align: right;\">\n",
       "      <th></th>\n",
       "      <th>Sentences</th>\n",
       "      <th>Present</th>\n",
       "      <th>Code Word</th>\n",
       "      <th>Target Word</th>\n",
       "      <th>Pred_Present</th>\n",
       "      <th>Pred_Code_Word</th>\n",
       "      <th>Pred_target_word</th>\n",
       "    </tr>\n",
       "  </thead>\n",
       "  <tbody>\n",
       "    <tr>\n",
       "      <th>0</th>\n",
       "      <td>all up my nose already haha, was a very very f...</td>\n",
       "      <td>yes</td>\n",
       "      <td>crystal</td>\n",
       "      <td>methamphetamine</td>\n",
       "      <td>yes</td>\n",
       "      <td>crystal</td>\n",
       "      <td>Methamphetamine</td>\n",
       "    </tr>\n",
       "    <tr>\n",
       "      <th>1</th>\n",
       "      <td>nah he extended his 'christmas' sale because h...</td>\n",
       "      <td>yes</td>\n",
       "      <td>crystal</td>\n",
       "      <td>methamphetamine</td>\n",
       "      <td>yes</td>\n",
       "      <td>crystal</td>\n",
       "      <td>Methamphetamine</td>\n",
       "    </tr>\n",
       "    <tr>\n",
       "      <th>2</th>\n",
       "      <td>boy you really saved us all with one. almost w...</td>\n",
       "      <td>no</td>\n",
       "      <td>NaN</td>\n",
       "      <td>NaN</td>\n",
       "      <td>no</td>\n",
       "      <td>NA</td>\n",
       "      <td>NA</td>\n",
       "    </tr>\n",
       "    <tr>\n",
       "      <th>3</th>\n",
       "      <td>ask yourself if you would eat another apple</td>\n",
       "      <td>no</td>\n",
       "      <td>NaN</td>\n",
       "      <td>NaN</td>\n",
       "      <td>no</td>\n",
       "      <td>NA</td>\n",
       "      <td>NA</td>\n",
       "    </tr>\n",
       "    <tr>\n",
       "      <th>4</th>\n",
       "      <td>the consistency was very similar to baby powde...</td>\n",
       "      <td>yes</td>\n",
       "      <td>baby powder</td>\n",
       "      <td>cocaine</td>\n",
       "      <td>yes</td>\n",
       "      <td>#4</td>\n",
       "      <td>Heroin</td>\n",
       "    </tr>\n",
       "  </tbody>\n",
       "</table>\n",
       "</div>"
      ],
      "text/plain": [
       "                                           Sentences Present    Code Word  \\\n",
       "0  all up my nose already haha, was a very very f...     yes      crystal   \n",
       "1  nah he extended his 'christmas' sale because h...     yes      crystal   \n",
       "2  boy you really saved us all with one. almost w...      no          NaN   \n",
       "3        ask yourself if you would eat another apple      no          NaN   \n",
       "4  the consistency was very similar to baby powde...     yes  baby powder   \n",
       "\n",
       "       Target Word Pred_Present Pred_Code_Word    Pred_target_word  \n",
       "0  methamphetamine         yes       crystal      Methamphetamine   \n",
       "1  methamphetamine         yes       crystal      Methamphetamine   \n",
       "2              NaN          no             NA                  NA   \n",
       "3              NaN          no             NA                  NA   \n",
       "4          cocaine         yes             #4              Heroin   "
      ]
     },
     "execution_count": 15,
     "metadata": {},
     "output_type": "execute_result"
    }
   ],
   "source": [
    "combined.head()\n",
    "#combined.to_csv('Result_file_Bart1.txt', sep='|',index=False)"
   ]
  },
  {
   "cell_type": "code",
   "execution_count": 20,
   "metadata": {},
   "outputs": [],
   "source": [
    "def calculate_accuracy(true_labels, predicted_labels):\n",
    "   \n",
    "    class_counts = {}\n",
    "    for true_label, predicted_label in zip(true_labels, predicted_labels):\n",
    "        if true_label in class_counts:\n",
    "            class_counts[true_label][\"total_samples\"] += 1\n",
    "            if true_label == predicted_label:\n",
    "                class_counts[true_label][\"correct_predictions\"] += 1\n",
    "        else:\n",
    "            class_counts[true_label] = {\n",
    "                \"total_samples\": 1,\n",
    "                \"correct_predictions\": 1 if true_label == predicted_label else 0\n",
    "            }\n",
    "    accuracies = {}\n",
    "    overall_correct_predictions = 0\n",
    "    overall_total_samples = 0\n",
    "    for class_label, counts in class_counts.items():\n",
    "        accuracy = counts[\"correct_predictions\"] / counts[\"total_samples\"]\n",
    "        accuracies[class_label] = accuracy\n",
    "        overall_correct_predictions += counts[\"correct_predictions\"]\n",
    "        overall_total_samples += counts[\"total_samples\"]\n",
    "\n",
    "    overall_accuracy = overall_correct_predictions / overall_total_samples\n",
    "    \n",
    "    return accuracies, overall_accuracy,class_counts\n"
   ]
  },
  {
   "cell_type": "code",
   "execution_count": 21,
   "metadata": {},
   "outputs": [],
   "source": [
    "cw_df= combined[combined['Present']==\"yes\"]\n",
    "cw_df = cw_df[['Code Word','Pred_Code_Word']]\n",
    "cw_df['Code Word'] = cw_df['Code Word'].str.strip().str.lower()\n",
    "cw_df['Pred_Code_Word'] = cw_df['Pred_Code_Word'].str.strip().str.lower()"
   ]
  },
  {
   "cell_type": "code",
   "execution_count": 23,
   "metadata": {},
   "outputs": [
    {
     "name": "stdout",
     "output_type": "stream",
     "text": [
      "Class accuracies: {'crystal': 1.0, 'baby powder': 0.0, 'fish scale': 0.6666666666666666, 'acid': 1.0, 'haze': 0.5, 'coke': 1.0, 'chiva': 1.0, 'candy': 0.0, 'blue jeans': 0.5, 'snowflake': 1.0, 'ganja': 1.0, 'weed': 1.0, 'love drug': 1.0, 'la tierra': 0.5, 'kleenex': 0.0, 'dust': 0.5, 'china white': 1.0, 'gold dust': 1.0, 'pot': 1.0, 'brown sugar': 0.0, 'vitamin k': 0.0, 'grass': 1.0, 'barry farrell': 1.0}\n",
      "Overall accuracy: 0.6444444444444445\n",
      "{'crystal': {'total_samples': 3, 'correct_predictions': 3}, 'baby powder': {'total_samples': 5, 'correct_predictions': 0}, 'fish scale': {'total_samples': 3, 'correct_predictions': 2}, 'acid': {'total_samples': 3, 'correct_predictions': 3}, 'haze': {'total_samples': 2, 'correct_predictions': 1}, 'coke': {'total_samples': 3, 'correct_predictions': 3}, 'chiva': {'total_samples': 3, 'correct_predictions': 3}, 'candy': {'total_samples': 2, 'correct_predictions': 0}, 'blue jeans': {'total_samples': 2, 'correct_predictions': 1}, 'snowflake': {'total_samples': 1, 'correct_predictions': 1}, 'ganja': {'total_samples': 2, 'correct_predictions': 2}, 'weed': {'total_samples': 1, 'correct_predictions': 1}, 'love drug': {'total_samples': 1, 'correct_predictions': 1}, 'la tierra': {'total_samples': 2, 'correct_predictions': 1}, 'kleenex': {'total_samples': 1, 'correct_predictions': 0}, 'dust': {'total_samples': 2, 'correct_predictions': 1}, 'china white': {'total_samples': 2, 'correct_predictions': 2}, 'gold dust': {'total_samples': 1, 'correct_predictions': 1}, 'pot': {'total_samples': 1, 'correct_predictions': 1}, 'brown sugar': {'total_samples': 1, 'correct_predictions': 0}, 'vitamin k': {'total_samples': 2, 'correct_predictions': 0}, 'grass': {'total_samples': 1, 'correct_predictions': 1}, 'barry farrell': {'total_samples': 1, 'correct_predictions': 1}}\n"
     ]
    }
   ],
   "source": [
    "true_labels = cw_df['Code Word']\n",
    "predicted_labels = cw_df['Pred_Code_Word']\n",
    "\n",
    "class_accuracies, overall_accuracy,class_counts = calculate_accuracy(true_labels, predicted_labels)\n",
    "\n",
    "print(\"Class accuracies:\", class_accuracies)\n",
    "print(\"Overall accuracy:\", overall_accuracy)\n",
    "print(class_counts)"
   ]
  },
  {
   "cell_type": "code",
   "execution_count": 24,
   "metadata": {},
   "outputs": [],
   "source": [
    "rows = [{'Code word': class_name, 'Total Samples': values['total_samples'], 'Correct Predictions': values['correct_predictions']}\n",
    "        for class_name, values in class_counts.items()]"
   ]
  },
  {
   "cell_type": "code",
   "execution_count": 25,
   "metadata": {},
   "outputs": [],
   "source": [
    "df_eval_cw = pd.DataFrame(rows)"
   ]
  },
  {
   "cell_type": "code",
   "execution_count": 26,
   "metadata": {},
   "outputs": [],
   "source": [
    "df_eval_cw.to_csv('palm2_CW_stat1.csv', sep=',',index=False)"
   ]
  }
 ],
 "metadata": {
  "kernelspec": {
   "display_name": "base",
   "language": "python",
   "name": "python3"
  },
  "language_info": {
   "codemirror_mode": {
    "name": "ipython",
    "version": 3
   },
   "file_extension": ".py",
   "mimetype": "text/x-python",
   "name": "python",
   "nbconvert_exporter": "python",
   "pygments_lexer": "ipython3",
   "version": "3.10.9"
  },
  "orig_nbformat": 4
 },
 "nbformat": 4,
 "nbformat_minor": 2
}
