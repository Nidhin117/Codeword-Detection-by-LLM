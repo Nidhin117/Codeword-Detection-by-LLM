{
 "cells": [
  {
   "cell_type": "code",
   "execution_count": 1,
   "metadata": {},
   "outputs": [],
   "source": [
    "import pandas as pd\n",
    "df_bart_pred = pd.read_csv('bart_test_result1.txt', delimiter='|',header=None, names=['Sentences', 'Present', 'Code Word','Target Word'])\n",
    "df_deberta_pred = pd.read_csv('deberta_test_result1.txt', delimiter='|',header=None, names=['Sentences', 'Present', 'Code Word','Target Word'])\n",
    "df_actual = pd.read_csv('.././BigQuery/Files/CombinesDS_2.txt', delimiter='|')"
   ]
  },
  {
   "cell_type": "code",
   "execution_count": 2,
   "metadata": {},
   "outputs": [
    {
     "data": {
      "text/plain": [
       "(103, 4)"
      ]
     },
     "execution_count": 2,
     "metadata": {},
     "output_type": "execute_result"
    }
   ],
   "source": [
    "df_actual = df_actual.iloc[:103]\n",
    "df_actual.shape"
   ]
  },
  {
   "cell_type": "code",
   "execution_count": 3,
   "metadata": {},
   "outputs": [],
   "source": [
    "actual_val = df_actual['Present'].astype(str).replace({'yes': 1, 'no': 0})\n",
    "predicted_val_bart = df_bart_pred['Present'].str.strip().astype(str).replace({'yes': 1, 'no': 0})\n",
    "predicted_val_deberta= df_deberta_pred['Present'].str.strip().astype(str).replace({'yes': 1, 'no': 0})"
   ]
  },
  {
   "cell_type": "code",
   "execution_count": 6,
   "metadata": {},
   "outputs": [
    {
     "name": "stdout",
     "output_type": "stream",
     "text": [
      "Confusion Matrix:\n",
      " [[28 30]\n",
      " [ 1 44]]\n",
      "Classification Report:\n",
      "               precision    recall  f1-score   support\n",
      "\n",
      "           0       0.97      0.48      0.64        58\n",
      "           1       0.59      0.98      0.74        45\n",
      "\n",
      "    accuracy                           0.70       103\n",
      "   macro avg       0.78      0.73      0.69       103\n",
      "weighted avg       0.80      0.70      0.69       103\n",
      "\n",
      "Accuracy is 0.6990291262135923\n",
      "Precision is 0.5945945945945946\n",
      "Recall is 0.9777777777777777\n"
     ]
    }
   ],
   "source": [
    "from sklearn.metrics import classification_report, confusion_matrix, accuracy_score, precision_score, recall_score\n",
    "\n",
    "cm= confusion_matrix(actual_val, predicted_val_bart)\n",
    "print(\"Confusion Matrix:\\n\", cm)\n",
    "\n",
    "report = classification_report(actual_val, predicted_val_bart)\n",
    "print(\"Classification Report:\\n\", report)\n",
    "\n",
    "print(f\"Accuracy is {accuracy_score(actual_val, predicted_val_bart)}\")\n",
    "print(f\"Precision is {precision_score(actual_val, predicted_val_bart)}\")\n",
    "print(f\"Recall is {recall_score(actual_val, predicted_val_bart)}\")"
   ]
  },
  {
   "cell_type": "code",
   "execution_count": 7,
   "metadata": {},
   "outputs": [
    {
     "data": {
      "image/png": "[encoded data removed]",
      "text/plain": [
       "<Figure size 800x400 with 2 Axes>"
      ]
     },
     "metadata": {},
     "output_type": "display_data"
    }
   ],
   "source": [
    "import seaborn as sns\n",
    "import matplotlib.pyplot as plt \n",
    "\n",
    "fig1=plt.figure(figsize=(8,4))\n",
    "ax1=fig1.add_axes([0.1,0.1,0.9,0.9])\n",
    "sns.heatmap(cm,annot=True, fmt='g')\n",
    "\n",
    "plt.show()"
   ]
  },
  {
   "cell_type": "code",
   "execution_count": 8,
   "metadata": {},
   "outputs": [
    {
     "name": "stdout",
     "output_type": "stream",
     "text": [
      "Confusion Matrix:\n",
      " [[12 46]\n",
      " [ 0 45]]\n",
      "Classification Report:\n",
      "               precision    recall  f1-score   support\n",
      "\n",
      "           0       1.00      0.21      0.34        58\n",
      "           1       0.49      1.00      0.66        45\n",
      "\n",
      "    accuracy                           0.55       103\n",
      "   macro avg       0.75      0.60      0.50       103\n",
      "weighted avg       0.78      0.55      0.48       103\n",
      "\n",
      "Accuracy is 0.5533980582524272\n"
     ]
    }
   ],
   "source": [
    "cm= confusion_matrix(actual_val, predicted_val_deberta)\n",
    "print(\"Confusion Matrix:\\n\", cm)\n",
    "\n",
    "report = classification_report(actual_val, predicted_val_deberta)\n",
    "print(\"Classification Report:\\n\", report)\n",
    "\n",
    "print(f\"Accuracy is {accuracy_score(actual_val, predicted_val_deberta)}\")"
   ]
  },
  {
   "cell_type": "code",
   "execution_count": 9,
   "metadata": {},
   "outputs": [
    {
     "data": {
      "image/png": "[encoded data removed]",
      "text/plain": [
       "<Figure size 800x400 with 2 Axes>"
      ]
     },
     "metadata": {},
     "output_type": "display_data"
    }
   ],
   "source": [
    "import seaborn as sns\n",
    "import matplotlib.pyplot as plt \n",
    "\n",
    "fig1=plt.figure(figsize=(8,4))\n",
    "ax1=fig1.add_axes([0.1,0.1,0.9,0.9])\n",
    "sns.heatmap(cm,annot=True, fmt='g')\n",
    "\n",
    "plt.show()"
   ]
  },
  {
   "cell_type": "code",
   "execution_count": 13,
   "metadata": {},
   "outputs": [
    {
     "data": {
      "text/html": [
       "<div>\n",
       "<style scoped>\n",
       "    .dataframe tbody tr th:only-of-type {\n",
       "        vertical-align: middle;\n",
       "    }\n",
       "\n",
       "    .dataframe tbody tr th {\n",
       "        vertical-align: top;\n",
       "    }\n",
       "\n",
       "    .dataframe thead th {\n",
       "        text-align: right;\n",
       "    }\n",
       "</style>\n",
       "<table border=\"1\" class=\"dataframe\">\n",
       "  <thead>\n",
       "    <tr style=\"text-align: right;\">\n",
       "      <th></th>\n",
       "      <th>Sentences</th>\n",
       "      <th>Pred_bard_Present</th>\n",
       "      <th>Pred_bard_Code_Word</th>\n",
       "      <th>Pred_bard_target_word</th>\n",
       "    </tr>\n",
       "  </thead>\n",
       "  <tbody>\n",
       "    <tr>\n",
       "      <th>0</th>\n",
       "      <td>all up my nose already haha, was a very very f...</td>\n",
       "      <td>yes</td>\n",
       "      <td>NA</td>\n",
       "      <td>NA</td>\n",
       "    </tr>\n",
       "    <tr>\n",
       "      <th>1</th>\n",
       "      <td>nah he extended his 'christmas' sale because h...</td>\n",
       "      <td>yes</td>\n",
       "      <td>NA</td>\n",
       "      <td>NA</td>\n",
       "    </tr>\n",
       "    <tr>\n",
       "      <th>2</th>\n",
       "      <td>boy you really saved us all with one. almost w...</td>\n",
       "      <td>yes</td>\n",
       "      <td>NA</td>\n",
       "      <td>NA</td>\n",
       "    </tr>\n",
       "    <tr>\n",
       "      <th>3</th>\n",
       "      <td>ask yourself if you would eat another apple</td>\n",
       "      <td>no</td>\n",
       "      <td>NA</td>\n",
       "      <td>NA</td>\n",
       "    </tr>\n",
       "    <tr>\n",
       "      <th>4</th>\n",
       "      <td>the consistency was very similar to baby powde...</td>\n",
       "      <td>yes</td>\n",
       "      <td>NA</td>\n",
       "      <td>NA</td>\n",
       "    </tr>\n",
       "  </tbody>\n",
       "</table>\n",
       "</div>"
      ],
      "text/plain": [
       "                                           Sentences Pred_bard_Present  \\\n",
       "0  all up my nose already haha, was a very very f...              yes    \n",
       "1  nah he extended his 'christmas' sale because h...              yes    \n",
       "2  boy you really saved us all with one. almost w...              yes    \n",
       "3      ask yourself if you would eat another apple                 no    \n",
       "4  the consistency was very similar to baby powde...              yes    \n",
       "\n",
       "  Pred_bard_Code_Word Pred_bard_target_word  \n",
       "0                 NA                    NA   \n",
       "1                 NA                    NA   \n",
       "2                 NA                    NA   \n",
       "3                 NA                    NA   \n",
       "4                 NA                    NA   "
      ]
     },
     "execution_count": 13,
     "metadata": {},
     "output_type": "execute_result"
    }
   ],
   "source": [
    "df_bart_pred2 = df_bart_pred\n",
    "df_bart_pred2 = df_bart_pred2.rename(columns={'Present': 'Pred_bard_Present', 'Code Word': 'Pred_bard_Code_Word','Target Word':'Pred_bard_target_word'})\n",
    "df_bart_pred2.head()"
   ]
  },
  {
   "cell_type": "code",
   "execution_count": 14,
   "metadata": {},
   "outputs": [
    {
     "data": {
      "text/html": [
       "<div>\n",
       "<style scoped>\n",
       "    .dataframe tbody tr th:only-of-type {\n",
       "        vertical-align: middle;\n",
       "    }\n",
       "\n",
       "    .dataframe tbody tr th {\n",
       "        vertical-align: top;\n",
       "    }\n",
       "\n",
       "    .dataframe thead th {\n",
       "        text-align: right;\n",
       "    }\n",
       "</style>\n",
       "<table border=\"1\" class=\"dataframe\">\n",
       "  <thead>\n",
       "    <tr style=\"text-align: right;\">\n",
       "      <th></th>\n",
       "      <th>Sentences</th>\n",
       "      <th>Pred_deberta_Present</th>\n",
       "      <th>Pred_deberta_Code_Word</th>\n",
       "      <th>Pred_deberta_target_word</th>\n",
       "    </tr>\n",
       "  </thead>\n",
       "  <tbody>\n",
       "    <tr>\n",
       "      <th>0</th>\n",
       "      <td>all up my nose already haha, was a very very ...</td>\n",
       "      <td>yes</td>\n",
       "      <td>NA</td>\n",
       "      <td>NA</td>\n",
       "    </tr>\n",
       "    <tr>\n",
       "      <th>1</th>\n",
       "      <td>nah he extended his 'christmas' sale because h...</td>\n",
       "      <td>yes</td>\n",
       "      <td>NA</td>\n",
       "      <td>NA</td>\n",
       "    </tr>\n",
       "    <tr>\n",
       "      <th>2</th>\n",
       "      <td>boy you really saved us all with one. almost w...</td>\n",
       "      <td>yes</td>\n",
       "      <td>NA</td>\n",
       "      <td>NA</td>\n",
       "    </tr>\n",
       "    <tr>\n",
       "      <th>3</th>\n",
       "      <td>ask yourself if you would eat another apple</td>\n",
       "      <td>no</td>\n",
       "      <td>NA</td>\n",
       "      <td>NA</td>\n",
       "    </tr>\n",
       "    <tr>\n",
       "      <th>4</th>\n",
       "      <td>the consistency was very similar to baby powde...</td>\n",
       "      <td>yes</td>\n",
       "      <td>NA</td>\n",
       "      <td>NA</td>\n",
       "    </tr>\n",
       "  </tbody>\n",
       "</table>\n",
       "</div>"
      ],
      "text/plain": [
       "                                           Sentences Pred_deberta_Present  \\\n",
       "0   all up my nose already haha, was a very very ...                 yes    \n",
       "1  nah he extended his 'christmas' sale because h...                 yes    \n",
       "2  boy you really saved us all with one. almost w...                 yes    \n",
       "3      ask yourself if you would eat another apple                    no    \n",
       "4  the consistency was very similar to baby powde...                 yes    \n",
       "\n",
       "  Pred_deberta_Code_Word Pred_deberta_target_word  \n",
       "0                    NA                       NA   \n",
       "1                    NA                       NA   \n",
       "2                    NA                       NA   \n",
       "3                    NA                       NA   \n",
       "4                    NA                       NA   "
      ]
     },
     "execution_count": 14,
     "metadata": {},
     "output_type": "execute_result"
    }
   ],
   "source": [
    "df_deberta_pred2 = df_deberta_pred\n",
    "df_deberta_pred2 = df_deberta_pred2.rename(columns={'Present': 'Pred_deberta_Present', 'Code Word': 'Pred_deberta_Code_Word','Target Word':'Pred_deberta_target_word'})\n",
    "df_deberta_pred2.head()"
   ]
  },
  {
   "cell_type": "code",
   "execution_count": 15,
   "metadata": {},
   "outputs": [],
   "source": [
    "df_bart_pred2['Sentences'] = df_bart_pred2['Sentences'].str.strip()\n",
    "df_deberta_pred2['Sentences'] = df_deberta_pred2['Sentences'].str.strip()\n",
    "df_actual['Sentences'] = df_actual['Sentences'].str.strip()"
   ]
  },
  {
   "cell_type": "code",
   "execution_count": 17,
   "metadata": {},
   "outputs": [
    {
     "name": "stdout",
     "output_type": "stream",
     "text": [
      "Column A in both DataFrames is matching\n"
     ]
    }
   ],
   "source": [
    "matching = df_deberta_pred2['Sentences'].equals(df_actual['Sentences'])\n",
    "if matching:\n",
    "    print(\"Column A in both DataFrames is matching\")\n",
    "else:\n",
    "    print(\"Column A in both DataFrames is NOT matching\")"
   ]
  },
  {
   "cell_type": "code",
   "execution_count": 19,
   "metadata": {},
   "outputs": [],
   "source": [
    "combined = pd.merge(pd.merge(df_actual, df_bart_pred2, on='Sentences'), df_deberta_pred2, on='Sentences')\n"
   ]
  },
  {
   "cell_type": "code",
   "execution_count": 20,
   "metadata": {},
   "outputs": [],
   "source": [
    "combined.head()\n",
    "combined.to_csv('Result_file_bart_deberta1.txt', sep='|',index=False)"
   ]
  }
 ],
 "metadata": {
  "kernelspec": {
   "display_name": "base",
   "language": "python",
   "name": "python3"
  },
  "language_info": {
   "codemirror_mode": {
    "name": "ipython",
    "version": 3
   },
   "file_extension": ".py",
   "mimetype": "text/x-python",
   "name": "python",
   "nbconvert_exporter": "python",
   "pygments_lexer": "ipython3",
   "version": "3.10.9"
  },
  "orig_nbformat": 4
 },
 "nbformat": 4,
 "nbformat_minor": 2
}
